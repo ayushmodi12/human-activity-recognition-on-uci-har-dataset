{
  "nbformat": 4,
  "nbformat_minor": 0,
  "metadata": {
    "colab": {
      "provenance": []
    },
    "kernelspec": {
      "name": "python3",
      "display_name": "Python 3"
    },
    "language_info": {
      "name": "python"
    }
  },
  "cells": [
    {
      "cell_type": "code",
      "source": [
        "%pip install tsfel"
      ],
      "metadata": {
        "colab": {
          "base_uri": "https://localhost:8080/"
        },
        "id": "KrRgbJum5ODQ",
        "outputId": "ad2ca938-ab50-40f6-8123-e3e552d07642"
      },
      "execution_count": 2,
      "outputs": [
        {
          "output_type": "stream",
          "name": "stdout",
          "text": [
            "Collecting tsfel\n",
            "  Downloading tsfel-0.1.6-py3-none-any.whl (42 kB)\n",
            "\u001b[2K     \u001b[90m━━━━━━━━━━━━━━━━━━━━━━━━━━━━━━━━━━━━━━━━\u001b[0m \u001b[32m42.7/42.7 kB\u001b[0m \u001b[31m635.8 kB/s\u001b[0m eta \u001b[36m0:00:00\u001b[0m\n",
            "\u001b[?25hRequirement already satisfied: ipython>=7.4.0 in /usr/local/lib/python3.10/dist-packages (from tsfel) (7.34.0)\n",
            "Requirement already satisfied: numpy>=1.18.5 in /usr/local/lib/python3.10/dist-packages (from tsfel) (1.23.5)\n",
            "Requirement already satisfied: pandas>=1.5.3 in /usr/local/lib/python3.10/dist-packages (from tsfel) (1.5.3)\n",
            "Requirement already satisfied: scipy>=1.7.3 in /usr/local/lib/python3.10/dist-packages (from tsfel) (1.11.4)\n",
            "Requirement already satisfied: setuptools>=47.1.1 in /usr/local/lib/python3.10/dist-packages (from tsfel) (67.7.2)\n",
            "Collecting jedi>=0.16 (from ipython>=7.4.0->tsfel)\n",
            "  Downloading jedi-0.19.1-py2.py3-none-any.whl (1.6 MB)\n",
            "\u001b[2K     \u001b[90m━━━━━━━━━━━━━━━━━━━━━━━━━━━━━━━━━━━━━━━━\u001b[0m \u001b[32m1.6/1.6 MB\u001b[0m \u001b[31m8.3 MB/s\u001b[0m eta \u001b[36m0:00:00\u001b[0m\n",
            "\u001b[?25hRequirement already satisfied: decorator in /usr/local/lib/python3.10/dist-packages (from ipython>=7.4.0->tsfel) (4.4.2)\n",
            "Requirement already satisfied: pickleshare in /usr/local/lib/python3.10/dist-packages (from ipython>=7.4.0->tsfel) (0.7.5)\n",
            "Requirement already satisfied: traitlets>=4.2 in /usr/local/lib/python3.10/dist-packages (from ipython>=7.4.0->tsfel) (5.7.1)\n",
            "Requirement already satisfied: prompt-toolkit!=3.0.0,!=3.0.1,<3.1.0,>=2.0.0 in /usr/local/lib/python3.10/dist-packages (from ipython>=7.4.0->tsfel) (3.0.43)\n",
            "Requirement already satisfied: pygments in /usr/local/lib/python3.10/dist-packages (from ipython>=7.4.0->tsfel) (2.16.1)\n",
            "Requirement already satisfied: backcall in /usr/local/lib/python3.10/dist-packages (from ipython>=7.4.0->tsfel) (0.2.0)\n",
            "Requirement already satisfied: matplotlib-inline in /usr/local/lib/python3.10/dist-packages (from ipython>=7.4.0->tsfel) (0.1.6)\n",
            "Requirement already satisfied: pexpect>4.3 in /usr/local/lib/python3.10/dist-packages (from ipython>=7.4.0->tsfel) (4.9.0)\n",
            "Requirement already satisfied: python-dateutil>=2.8.1 in /usr/local/lib/python3.10/dist-packages (from pandas>=1.5.3->tsfel) (2.8.2)\n",
            "Requirement already satisfied: pytz>=2020.1 in /usr/local/lib/python3.10/dist-packages (from pandas>=1.5.3->tsfel) (2023.3.post1)\n",
            "Requirement already satisfied: parso<0.9.0,>=0.8.3 in /usr/local/lib/python3.10/dist-packages (from jedi>=0.16->ipython>=7.4.0->tsfel) (0.8.3)\n",
            "Requirement already satisfied: ptyprocess>=0.5 in /usr/local/lib/python3.10/dist-packages (from pexpect>4.3->ipython>=7.4.0->tsfel) (0.7.0)\n",
            "Requirement already satisfied: wcwidth in /usr/local/lib/python3.10/dist-packages (from prompt-toolkit!=3.0.0,!=3.0.1,<3.1.0,>=2.0.0->ipython>=7.4.0->tsfel) (0.2.13)\n",
            "Requirement already satisfied: six>=1.5 in /usr/local/lib/python3.10/dist-packages (from python-dateutil>=2.8.1->pandas>=1.5.3->tsfel) (1.16.0)\n",
            "Installing collected packages: jedi, tsfel\n",
            "Successfully installed jedi-0.19.1 tsfel-0.1.6\n"
          ]
        }
      ]
    },
    {
      "cell_type": "code",
      "execution_count": 39,
      "metadata": {
        "id": "mSVtRID85Ck7"
      },
      "outputs": [],
      "source": [
        "import os\n",
        "import numpy as np\n",
        "import pandas as pd\n",
        "import tsfel\n",
        "from sklearn import tree\n",
        "from sklearn import preprocessing\n",
        "from sklearn.metrics import classification_report\n",
        "from sklearn.feature_selection import VarianceThreshold\n",
        "import matplotlib.pyplot as plt\n",
        "from sklearn.model_selection import train_test_split\n",
        "from sklearn.metrics import accuracy_score, ConfusionMatrixDisplay, confusion_matrix\n",
        "from FeatureExtractor.extractor import extract #Self-made library to extract the necessary features we require"
      ]
    },
    {
      "cell_type": "code",
      "source": [
        "#Important Note: Make sure you have openxlsx library installed since it is used to read and extract data from .xlsx files from the directory. This can be done using !pip install openxlsx\n",
        "\n",
        "\n",
        "\n",
        "classes = {\"Walking\":1,\"WalkingUpstairs\":2,\"WalkingDownstairs\":3,\"Sitting\":4,\"Standing\":5,\"Laying\":6}  #Dictionary to define the classification of the activity\n",
        "\n",
        "X_test_collected_ax = []\n",
        "X_test_collected_ay = []\n",
        "X_test_collected_az = []\n",
        "y_test_collected = []\n",
        "print(\"Training the recognizer...\")\n",
        "\n",
        "for folder in classes.keys():\n",
        "    files = os.listdir(\"/content/Collected-Data/\"+folder)\n",
        "    for file in files:\n",
        "        path = \"/content/Collected-Data/\" + folder + \"/\" + file\n",
        "\n",
        "        try:\n",
        "            df = pd.read_excel(path)\n",
        "        except:\n",
        "            df = pd.read_csv(path)\n",
        "\n",
        "        df = df[0:500]\n",
        "        df.columns = ['time','ax','ay','az','at']\n",
        "\n",
        "        X_test_collected_ax.append(np.array(df['ax']))\n",
        "        X_test_collected_ay.append(np.array(df['ay']))\n",
        "        X_test_collected_az.append(np.array(df['az']))\n",
        "        y_test_collected.append(classes[folder])\n",
        "\n",
        "X_test_collected_temp = []\n",
        "\n",
        "#Making an 3D array to feed to extract to get the required features\n",
        "for i in range(len(X_test_collected_ay)):\n",
        "    temp = []\n",
        "    for j in range(500):\n",
        "        temp.append([X_test_collected_ax[i][j],X_test_collected_ay[i][j],X_test_collected_az[i][j]])\n",
        "    X_test_collected_temp.append(temp)\n",
        "\n",
        "X_test_collected = np.array(X_test_collected_temp)\n",
        "\n",
        "X_test_collected = extract(X_test_collected)  # Extract takes a 3D Array and returs an 2D array with the selected features\n",
        "print(\"Shape of X_test_collected (Featurized):\",X_test_collected.shape)\n",
        "\n",
        "\n",
        "#Loading the data\n",
        "X_train = np.load('/content/X_train.npy')\n",
        "y_train = np.load('/content/y_train.npy')\n",
        "X_test = np.load('/content/X_test.npy')\n",
        "y_test = np.load('/content/y_test.npy')\n",
        "X_val = np.load('/content/X_val.npy')\n",
        "y_val = np.load('/content/y_val.npy')\n",
        "\n",
        "\n",
        "#Appending everything into the X_Data\n",
        "X_data = []\n",
        "for i in range(len(X_test)):\n",
        "    X_data.append(X_test[i])\n",
        "\n",
        "for i in range(len(X_train)):\n",
        "    X_data.append(X_train[i])\n",
        "\n",
        "for i in range(len(X_val)):\n",
        "    X_data.append(X_val[i])\n",
        "\n",
        "X_train = extract(X_data)\n",
        "y_train = np.array(list(y_test)+list(y_train)+list(y_val))\n",
        "\n",
        "\n",
        "Recognizer = tree.DecisionTreeClassifier(max_depth=4, min_samples_split=2, criterion='gini', random_state=43)\n",
        "Recognizer.fit(X_train, y_train)\n",
        "\n",
        "y_pred = Recognizer.predict(X_test_collected)\n",
        "accuracy = accuracy_score(y_test_collected,y_pred)\n",
        "print(\"Accuracy of the Decision Tree model is: \",accuracy*100,\"%\")\n",
        "con_mat = confusion_matrix(y_test_collected,y_pred, labels=Recognizer.classes_)\n",
        "print(\"Displaying Confusion Matrix...\")\n",
        "disp = ConfusionMatrixDisplay(confusion_matrix=con_mat,display_labels=Recognizer.classes_)\n",
        "disp.plot()\n",
        "plt.show()\n",
        ""
      ],
      "metadata": {
        "colab": {
          "base_uri": "https://localhost:8080/",
          "height": 524
        },
        "id": "vpmwNH0c5I9j",
        "outputId": "0f3c3721-f61d-4877-90d8-6e69f65db9b9"
      },
      "execution_count": 40,
      "outputs": [
        {
          "output_type": "stream",
          "name": "stdout",
          "text": [
            "Training the recognizer...\n",
            "Shape of X_test_collected (Featurized): (24, 28)\n",
            "Accuracy of the Decision Tree model is:  37.5 %\n",
            "Displaying Confusion Matrix...\n"
          ]
        },
        {
          "output_type": "display_data",
          "data": {
            "text/plain": [
              "<Figure size 640x480 with 2 Axes>"
            ],
            "image/png": "[encoded data removed]"
          },
          "metadata": {}
        }
      ]
    },
    {
      "cell_type": "code",
      "source": [
        "x_train_sig = list(X_data)\n",
        "X_test_collected_temp = list(X_test_collected_temp)"
      ],
      "metadata": {
        "id": "EqER1ROJ6v8C"
      },
      "execution_count": 41,
      "outputs": []
    },
    {
      "cell_type": "code",
      "source": [
        "fs=50\n",
        "\n",
        "cfg_file = tsfel.get_features_by_domain()                # All features\n",
        "# cfg_file = tsfel.get_features_by_domain('statistical') # Only statistical features\n",
        "# cfg_file = tsfel.get_features_by_domain('temporal')    # Only temporal features\n",
        "# cfg_file = tsfel.get_features_by_domain('spectral')    # Only spectral features\n",
        "\n",
        "# Get features\n",
        "X_train = tsfel.time_series_features_extractor(cfg_file, x_train_sig, fs=fs)\n",
        "X_test = tsfel.time_series_features_extractor(cfg_file, X_test_collected_temp, fs=fs)"
      ],
      "metadata": {
        "colab": {
          "base_uri": "https://localhost:8080/",
          "height": 227
        },
        "id": "7z0_W9UH6Hfk",
        "outputId": "e62e7f72-cb60-4f87-87a8-afeb5edfe917"
      },
      "execution_count": 42,
      "outputs": [
        {
          "output_type": "stream",
          "name": "stdout",
          "text": [
            "*** Feature extraction started ***\n"
          ]
        },
        {
          "output_type": "display_data",
          "data": {
            "text/plain": [
              "<IPython.core.display.HTML object>"
            ],
            "text/html": [
              "\n",
              "              <p>\n",
              "                  Progress: 100% Complete\n",
              "              <p/>\n",
              "              <progress\n",
              "                  value='180'\n",
              "                  max='180',\n",
              "                  style='width: 25%',\n",
              "              >\n",
              "                  180\n",
              "              </progress>\n",
              "\n",
              "    "
            ]
          },
          "metadata": {}
        },
        {
          "output_type": "stream",
          "name": "stdout",
          "text": [
            "\n",
            "*** Feature extraction finished ***\n",
            "*** Feature extraction started ***\n"
          ]
        },
        {
          "output_type": "display_data",
          "data": {
            "text/plain": [
              "<IPython.core.display.HTML object>"
            ],
            "text/html": [
              "\n",
              "              <p>\n",
              "                  Progress: 100% Complete\n",
              "              <p/>\n",
              "              <progress\n",
              "                  value='24'\n",
              "                  max='24',\n",
              "                  style='width: 25%',\n",
              "              >\n",
              "                  24\n",
              "              </progress>\n",
              "\n",
              "    "
            ]
          },
          "metadata": {}
        },
        {
          "output_type": "stream",
          "name": "stdout",
          "text": [
            "\n",
            "*** Feature extraction finished ***\n"
          ]
        }
      ]
    },
    {
      "cell_type": "code",
      "source": [
        "print(X_train.shape)\n",
        "print(X_test.shape)"
      ],
      "metadata": {
        "colab": {
          "base_uri": "https://localhost:8080/"
        },
        "id": "Agn_VIpi6zXZ",
        "outputId": "952c30a7-b58e-4e2d-8156-fa0355d64ba6"
      },
      "execution_count": 43,
      "outputs": [
        {
          "output_type": "stream",
          "name": "stdout",
          "text": [
            "(180, 1152)\n",
            "(24, 1152)\n"
          ]
        }
      ]
    },
    {
      "cell_type": "code",
      "source": [
        "corr_features = tsfel.correlated_features(X_train)\n",
        "X_train.drop(corr_features, axis=1, inplace=True)\n",
        "X_test.drop(corr_features, axis=1, inplace=True)\n",
        "\n",
        "# Remove low variance features\n",
        "selector = VarianceThreshold()\n",
        "X_train = selector.fit_transform(X_train)\n",
        "X_test = selector.transform(X_test)\n",
        "\n",
        "# Normalising Features\n",
        "scaler = preprocessing.StandardScaler()\n",
        "nX_train = scaler.fit_transform(X_train)\n",
        "nX_test = scaler.transform(X_test)"
      ],
      "metadata": {
        "id": "IgdNurT78mTg"
      },
      "execution_count": 44,
      "outputs": []
    },
    {
      "cell_type": "code",
      "source": [
        "from sklearn import tree\n",
        "import numpy as np\n",
        "import matplotlib.pyplot as plt\n",
        "from sklearn.metrics import accuracy_score, ConfusionMatrixDisplay, confusion_matrix\n",
        "classifier = tree.DecisionTreeClassifier()\n",
        "classifier = classifier.fit(nX_train, y_train.ravel())"
      ],
      "metadata": {
        "id": "BcJphtiJ99yf"
      },
      "execution_count": 45,
      "outputs": []
    },
    {
      "cell_type": "code",
      "source": [
        "y_test_predict = classifier.predict(nX_test)\n",
        "\n",
        "# Get the classification report\n",
        "accuracy = accuracy_score(y_test_collected, y_test_predict) * 100\n",
        "# print(classification_report(y_test, y_test_predict, target_names=activity_labels))\n",
        "print(\"Accuracy: \" + str(accuracy) + '%')\n",
        "con_mat = confusion_matrix(y_test_collected,y_test_predict, labels=classifier.classes_)\n",
        "print(\"Displaying Confusion Matrix...\")\n",
        "disp = ConfusionMatrixDisplay(confusion_matrix=con_mat,display_labels=classifier.classes_)\n",
        "disp.plot()\n",
        "plt.show()"
      ],
      "metadata": {
        "colab": {
          "base_uri": "https://localhost:8080/",
          "height": 490
        },
        "id": "G7TG7A7w-SPG",
        "outputId": "6ea640af-445e-4404-d015-7ee0c1435833"
      },
      "execution_count": 46,
      "outputs": [
        {
          "output_type": "stream",
          "name": "stdout",
          "text": [
            "Accuracy: 29.166666666666668%\n",
            "Displaying Confusion Matrix...\n"
          ]
        },
        {
          "output_type": "display_data",
          "data": {
            "text/plain": [
              "<Figure size 640x480 with 2 Axes>"
            ],
            "image/png": "[encoded data removed]"
          },
          "metadata": {}
        }
      ]
    },
    {
      "cell_type": "markdown",
      "source": [
        "After training the model on the features (from extractor) we used the Collected-data to predict the activity and found the acccuracy to be 37.5%. Using the featiures obtained from tsfel library, we obtained even lower accuracy of 30%. This is counter intuitive and is in sharp contrast to the trend observed while using the UCI-HAR dataset where the features provided by tsfel provided a far clear picture. The reason for low accuracy and the counter intuitive trend can be following:\n",
        "- We have used only 28 features to train the model, but the UCI HAR paper has used 561 features to train and hence predict.\n",
        "- They have used filters like Butterworth features in order to remove the noises from the collected data in order to achieve better accuracy.\n",
        "- We haven't deployed the 5-Fold Cross Validation whislt the author of the paper have included it."
      ],
      "metadata": {
        "id": "9-N7Tk_e_fg6"
      }
    },
    {
      "cell_type": "code",
      "source": [],
      "metadata": {
        "id": "Ge7KBwDE-k4a"
      },
      "execution_count": null,
      "outputs": []
    }
  ]
}