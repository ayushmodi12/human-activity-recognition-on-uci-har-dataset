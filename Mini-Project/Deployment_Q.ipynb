{
 "cells": [
  {
   "cell_type": "code",
   "execution_count": 1,
   "metadata": {},
   "outputs": [
    {
     "name": "stdout",
     "output_type": "stream",
     "text": [
      "Training the recognizer...\n",
      "Shape of X_test_collected (Featurized): (24, 28)\n",
      "Accuracy of the Decision Tree model is:  37.5 %\n",
      "Displaying Confusion Matrix...\n"
     ]
    },
    {
     "data": {
      "image/png": "[encoded data removed]",
      "text/plain": [
       "<Figure size 640x480 with 2 Axes>"
      ]
     },
     "metadata": {},
     "output_type": "display_data"
    }
   ],
   "source": [
    "#Important Note: Make sure you have openxlsx library installed since it is used to read and extract data from .xlsx files from the directory. This can be done using !pip install openxlsx\n",
    "\n",
    "import os\n",
    "import numpy as np\n",
    "import pandas as pd\n",
    "from sklearn import tree\n",
    "import matplotlib.pyplot as plt\n",
    "from sklearn.model_selection import train_test_split\n",
    "from sklearn.metrics import accuracy_score, ConfusionMatrixDisplay, confusion_matrix\n",
    "from FeatureExtractor.extractor import extract #Self-made library to extract the necessary features we require\n",
    "\n",
    "classes = {\"Walking\":1,\"WalkingUpstairs\":2,\"WalkingDownstairs\":3,\"Sitting\":4,\"Standing\":5,\"Laying\":6}  #Dictionary to define the classification of the activity\n",
    "\n",
    "X_test_collected_ax = []\n",
    "X_test_collected_ay = []\n",
    "X_test_collected_az = []\n",
    "y_test_collected = []\n",
    "print(\"Training the recognizer...\")\n",
    "\n",
    "for folder in classes.keys():\n",
    "    files = os.listdir(\"..\\\\Collected-Data\\\\\"+folder)\n",
    "    for file in files:\n",
    "        path = \"..\\\\Collected-Data\\\\\" + folder + \"\\\\\" + file\n",
    "\n",
    "        try: \n",
    "            df = pd.read_excel(path)\n",
    "        except:\n",
    "            df = pd.read_csv(path)\n",
    "        \n",
    "        df = df[0:500]\n",
    "        df.columns = ['time','ax','ay','az','at']\n",
    "\n",
    "        X_test_collected_ax.append(np.array(df['ax']))\n",
    "        X_test_collected_ay.append(np.array(df['ay']))\n",
    "        X_test_collected_az.append(np.array(df['az']))\n",
    "        y_test_collected.append(classes[folder])\n",
    "\n",
    "X_test_collected = []\n",
    "\n",
    "#Making an 3D array to feed to extract to get the required features \n",
    "for i in range(len(X_test_collected_ay)):\n",
    "    temp = []\n",
    "    for j in range(500):\n",
    "        temp.append([X_test_collected_ax[i][j],X_test_collected_ay[i][j],X_test_collected_az[i][j]])\n",
    "    X_test_collected.append(temp)\n",
    "\n",
    "X_test_collected = np.array(X_test_collected)\n",
    "\n",
    "X_test_collected = extract(X_test_collected)  # Extract takes a 3D Array and returs an 2D array with the selected features\n",
    "print(\"Shape of X_test_collected (Featurized):\",X_test_collected.shape)\n",
    "\n",
    "\n",
    "#Loading the data\n",
    "X_train = np.load('X_train.npy')\n",
    "y_train = np.load('y_train.npy')\n",
    "X_test = np.load('X_test.npy')\n",
    "y_test = np.load('y_test.npy')\n",
    "X_val = np.load('X_val.npy')\n",
    "y_val = np.load('y_val.npy')\n",
    "\n",
    "\n",
    "#Appending everything into the X_Data\n",
    "X_data = []\n",
    "for i in range(len(X_test)):\n",
    "    X_data.append(X_test[i])\n",
    "\n",
    "for i in range(len(X_train)):\n",
    "    X_data.append(X_train[i])\n",
    "\n",
    "for i in range(len(X_val)):\n",
    "    X_data.append(X_val[i])\n",
    "\n",
    "X_train = extract(X_data)\n",
    "y_train = np.array(list(y_test)+list(y_train)+list(y_val))\n",
    "\n",
    "\n",
    "Recognizer = tree.DecisionTreeClassifier(max_depth=4, min_samples_split=2, criterion='gini', random_state=43)\n",
    "Recognizer.fit(X_train, y_train)\n",
    "\n",
    "y_pred = Recognizer.predict(X_test_collected)\n",
    "accuracy = accuracy_score(y_test_collected,y_pred)\n",
    "print(\"Accuracy of the Decision Tree model is: \",accuracy*100,\"%\")\n",
    "con_mat = confusion_matrix(y_test_collected,y_pred, labels=Recognizer.classes_)\n",
    "print(\"Displaying Confusion Matrix...\")\n",
    "disp = ConfusionMatrixDisplay(confusion_matrix=con_mat,display_labels=Recognizer.classes_)\n",
    "disp.plot()\n",
    "plt.show()\n",
    "            "
   ]
  },
  {
   "cell_type": "markdown",
   "metadata": {},
   "source": [
    "After training the model on the features (from extractor) we used the Collected-data to predict the activity and found the acccuracy to be 37.5%. The reason for low accuracy can be following:\n",
    "- We have used only 28 features to train the model, but the UCI HAR paper has used 561 models to train and hence predict.\n",
    "- They have used filters like Butterworth features in order to remove the noises from the collected data in order to achieve better accuracy.\n",
    "- We haven't deployed the 5-Fold Cross Validation whislt the author of the paper have included it."
   ]
  }
 ],
 "metadata": {
  "kernelspec": {
   "display_name": "Python 3",
   "language": "python",
   "name": "python3"
  },
  "language_info": {
   "codemirror_mode": {
    "name": "ipython",
    "version": 3
   },
   "file_extension": ".py",
   "mimetype": "text/x-python",
   "name": "python",
   "nbconvert_exporter": "python",
   "pygments_lexer": "ipython3",
   "version": "3.11.2"
  }
 },
 "nbformat": 4,
 "nbformat_minor": 2
}
